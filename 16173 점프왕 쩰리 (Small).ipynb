{
 "cells": [
  {
   "cell_type": "code",
   "execution_count": 11,
   "id": "cheap-variable",
   "metadata": {
    "ExecuteTime": {
     "end_time": "2021-10-21T04:06:13.041858Z",
     "start_time": "2021-10-21T04:06:08.048206Z"
    }
   },
   "outputs": [
    {
     "name": "stdout",
     "output_type": "stream",
     "text": [
      "3\n",
      "1 1 10\n",
      "1 5 1\n",
      "2 2 -1\n",
      "HaruHaru\n"
     ]
    }
   ],
   "source": [
    "from collections import deque\n",
    "\n",
    "def bfs(y, x):\n",
    "    q = deque()\n",
    "    q.append((y, x, li[y][x]))\n",
    "    while q:\n",
    "        y, x, d = q.popleft()\n",
    "        for i, j in [(1, 0), (0, 1)]:\n",
    "            Y, X = y + d*i, x+ d*j\n",
    "            if 0 <= Y < N and 0 <= X < N and d != 0:\n",
    "                if Y == X == N-1:\n",
    "                    return True\n",
    "                q.append((Y, X, li[Y][X]))\n",
    "    return False\n",
    "        \n",
    "N = int(input())\n",
    "li = [list(map(int, input().split())) for _ in range(N)]    \n",
    "print(\"HaruHaru\" if bfs(0, 0) else \"Hing\")"
   ]
  },
  {
   "cell_type": "code",
   "execution_count": 2,
   "id": "electrical-tumor",
   "metadata": {
    "ExecuteTime": {
     "end_time": "2021-10-21T14:24:57.633878Z",
     "start_time": "2021-10-21T14:24:53.620095Z"
    }
   },
   "outputs": [
    {
     "name": "stdout",
     "output_type": "stream",
     "text": [
      "3 \n",
      "1 1 10\n",
      "1 5 1\n",
      "2 2 -1\n",
      "HaruHaru\n"
     ]
    }
   ],
   "source": [
    "import sys\n",
    "sys.setrecursionlimit(10000)\n",
    "\n",
    "def dfs(y, x):\n",
    "    global ok\n",
    "    d = li[y][x]\n",
    "    for i, j in [(1, 0), (0, 1)]:\n",
    "        Y, X = y + d*i, x+ d*j\n",
    "        if 0 <= Y < N and 0 <= X < N and d != 0:\n",
    "            if Y == X == N-1:\n",
    "                ok = 1\n",
    "                return ;\n",
    "            dfs(Y, X)\n",
    "        \n",
    "N = int(input())\n",
    "li = [list(map(int, input().split())) for _ in range(N)]\n",
    "ok = 0\n",
    "dfs(0, 0)\n",
    "print(\"HaruHaru\" if ok else \"Hing\")"
   ]
  },
  {
   "cell_type": "code",
   "execution_count": null,
   "id": "detected-third",
   "metadata": {},
   "outputs": [],
   "source": []
  }
 ],
 "metadata": {
  "kernelspec": {
   "display_name": "Python 3",
   "language": "python",
   "name": "python3"
  },
  "language_info": {
   "codemirror_mode": {
    "name": "ipython",
    "version": 3
   },
   "file_extension": ".py",
   "mimetype": "text/x-python",
   "name": "python",
   "nbconvert_exporter": "python",
   "pygments_lexer": "ipython3",
   "version": "3.7.9"
  },
  "toc": {
   "base_numbering": 1,
   "nav_menu": {},
   "number_sections": true,
   "sideBar": true,
   "skip_h1_title": false,
   "title_cell": "Table of Contents",
   "title_sidebar": "Contents",
   "toc_cell": false,
   "toc_position": {},
   "toc_section_display": true,
   "toc_window_display": false
  },
  "varInspector": {
   "cols": {
    "lenName": 16,
    "lenType": 16,
    "lenVar": 40
   },
   "kernels_config": {
    "python": {
     "delete_cmd_postfix": "",
     "delete_cmd_prefix": "del ",
     "library": "var_list.py",
     "varRefreshCmd": "print(var_dic_list())"
    },
    "r": {
     "delete_cmd_postfix": ") ",
     "delete_cmd_prefix": "rm(",
     "library": "var_list.r",
     "varRefreshCmd": "cat(var_dic_list()) "
    }
   },
   "types_to_exclude": [
    "module",
    "function",
    "builtin_function_or_method",
    "instance",
    "_Feature"
   ],
   "window_display": false
  }
 },
 "nbformat": 4,
 "nbformat_minor": 5
}
