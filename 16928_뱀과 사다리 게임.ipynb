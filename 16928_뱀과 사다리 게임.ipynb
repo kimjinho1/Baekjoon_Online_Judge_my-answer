{
 "cells": [
  {
   "cell_type": "code",
   "execution_count": 31,
   "metadata": {
    "ExecuteTime": {
     "end_time": "2021-03-13T09:16:51.724940Z",
     "start_time": "2021-03-13T09:16:32.793338Z"
    },
    "scrolled": true
   },
   "outputs": [
    {
     "name": "stdout",
     "output_type": "stream",
     "text": [
      "3 7\n",
      "32 62\n",
      "42 68\n",
      "12 98\n",
      "95 13\n",
      "97 25\n",
      "93 37\n",
      "79 27\n",
      "75 19\n",
      "49 47\n",
      "67 17\n",
      "3\n"
     ]
    }
   ],
   "source": [
    "from collections import deque\n",
    "\n",
    "def bfs(node):\n",
    "    q = deque()\n",
    "    q.append(node)\n",
    "    check[node] = 0\n",
    "    while q:\n",
    "        node = q.popleft()\n",
    "        for i in range(1, 7):\n",
    "            n = node+i\n",
    "            if n > 100:\n",
    "                continue\n",
    "            t = graph[n]\n",
    "            if check[t] == -1:\n",
    "                q.append(t)\n",
    "                check[t] = check[node]+1\n",
    "                if t == 100:\n",
    "                    return ;\n",
    "                \n",
    "N, M = map(int, input().split())\n",
    "graph = [i for i in range(101)]\n",
    "for _ in range(N):\n",
    "    u, v = map(int, input().split())\n",
    "    graph[u] = v\n",
    "for _ in range(M):\n",
    "    u, v = map(int, input().split())\n",
    "    graph[u] = v\n",
    "check = [-1]*101\n",
    "bfs(1)\n",
    "print(check[100])"
   ]
  },
  {
   "cell_type": "code",
   "execution_count": null,
   "metadata": {},
   "outputs": [],
   "source": []
  }
 ],
 "metadata": {
  "kernelspec": {
   "display_name": "Python 3",
   "language": "python",
   "name": "python3"
  },
  "language_info": {
   "codemirror_mode": {
    "name": "ipython",
    "version": 3
   },
   "file_extension": ".py",
   "mimetype": "text/x-python",
   "name": "python",
   "nbconvert_exporter": "python",
   "pygments_lexer": "ipython3",
   "version": "3.8.5"
  },
  "toc": {
   "base_numbering": 1,
   "nav_menu": {},
   "number_sections": true,
   "sideBar": true,
   "skip_h1_title": false,
   "title_cell": "Table of Contents",
   "title_sidebar": "Contents",
   "toc_cell": false,
   "toc_position": {},
   "toc_section_display": true,
   "toc_window_display": false
  },
  "varInspector": {
   "cols": {
    "lenName": 16,
    "lenType": 16,
    "lenVar": 40
   },
   "kernels_config": {
    "python": {
     "delete_cmd_postfix": "",
     "delete_cmd_prefix": "del ",
     "library": "var_list.py",
     "varRefreshCmd": "print(var_dic_list())"
    },
    "r": {
     "delete_cmd_postfix": ") ",
     "delete_cmd_prefix": "rm(",
     "library": "var_list.r",
     "varRefreshCmd": "cat(var_dic_list()) "
    }
   },
   "types_to_exclude": [
    "module",
    "function",
    "builtin_function_or_method",
    "instance",
    "_Feature"
   ],
   "window_display": false
  }
 },
 "nbformat": 4,
 "nbformat_minor": 4
}
