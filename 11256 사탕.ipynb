{
 "cells": [
  {
   "cell_type": "code",
   "execution_count": 8,
   "id": "emerging-religious",
   "metadata": {
    "ExecuteTime": {
     "end_time": "2021-10-26T13:26:34.330688Z",
     "start_time": "2021-10-26T13:26:11.689996Z"
    }
   },
   "outputs": [
    {
     "name": "stdout",
     "output_type": "stream",
     "text": [
      "1\n",
      "20 5\n",
      "3 4\n",
      "2 5\n",
      "1 8\n",
      "3 3\n",
      "2 5\n",
      "2\n"
     ]
    }
   ],
   "source": [
    "for _ in range(int(input())):\n",
    "    j, N = map(int, input().split())\n",
    "    li = []\n",
    "    for i in range(N):\n",
    "        r, c = map(int, input().split())\n",
    "        li.append(r*c)\n",
    "    li.sort(reverse=True)\n",
    "    cnt = 0\n",
    "    while j > 0:\n",
    "        j -= li[cnt]\n",
    "        cnt += 1\n",
    "    print(cnt)"
   ]
  },
  {
   "cell_type": "code",
   "execution_count": 7,
   "id": "whole-operator",
   "metadata": {
    "ExecuteTime": {
     "end_time": "2021-10-26T13:24:35.279984Z",
     "start_time": "2021-10-26T13:24:24.532454Z"
    }
   },
   "outputs": [
    {
     "name": "stdout",
     "output_type": "stream",
     "text": [
      "2\n",
      "12 3\n",
      "2 7\n",
      "1 5\n",
      "3 2\n",
      "1\n",
      "20 3\n",
      "2 7\n",
      "1 5\n",
      "3 2\n",
      "2\n"
     ]
    }
   ],
   "source": [
    "for _ in range(int(input())):\n",
    "    j, N = map(int, input().split())\n",
    "    li = []\n",
    "    for i in range(N):\n",
    "        r, c = map(int, input().split())\n",
    "        li.append(r*c)\n",
    "    li.sort(reverse=True)\n",
    "    cnt = 0\n",
    "    while j > 0:\n",
    "        j -= li[cnt]\n",
    "        cnt += 1\n",
    "    print(cnt)"
   ]
  },
  {
   "cell_type": "code",
   "execution_count": null,
   "id": "british-division",
   "metadata": {},
   "outputs": [],
   "source": []
  }
 ],
 "metadata": {
  "kernelspec": {
   "display_name": "Python 3",
   "language": "python",
   "name": "python3"
  },
  "language_info": {
   "codemirror_mode": {
    "name": "ipython",
    "version": 3
   },
   "file_extension": ".py",
   "mimetype": "text/x-python",
   "name": "python",
   "nbconvert_exporter": "python",
   "pygments_lexer": "ipython3",
   "version": "3.7.9"
  },
  "toc": {
   "base_numbering": 1,
   "nav_menu": {},
   "number_sections": true,
   "sideBar": true,
   "skip_h1_title": false,
   "title_cell": "Table of Contents",
   "title_sidebar": "Contents",
   "toc_cell": false,
   "toc_position": {},
   "toc_section_display": true,
   "toc_window_display": false
  },
  "varInspector": {
   "cols": {
    "lenName": 16,
    "lenType": 16,
    "lenVar": 40
   },
   "kernels_config": {
    "python": {
     "delete_cmd_postfix": "",
     "delete_cmd_prefix": "del ",
     "library": "var_list.py",
     "varRefreshCmd": "print(var_dic_list())"
    },
    "r": {
     "delete_cmd_postfix": ") ",
     "delete_cmd_prefix": "rm(",
     "library": "var_list.r",
     "varRefreshCmd": "cat(var_dic_list()) "
    }
   },
   "types_to_exclude": [
    "module",
    "function",
    "builtin_function_or_method",
    "instance",
    "_Feature"
   ],
   "window_display": false
  }
 },
 "nbformat": 4,
 "nbformat_minor": 5
}
