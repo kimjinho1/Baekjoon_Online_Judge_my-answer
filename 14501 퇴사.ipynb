{
 "cells": [
  {
   "cell_type": "code",
   "execution_count": 49,
   "id": "089174d1",
   "metadata": {
    "ExecuteTime": {
     "end_time": "2022-02-22T01:35:17.916503Z",
     "start_time": "2022-02-22T01:35:17.894503Z"
    }
   },
   "outputs": [
    {
     "name": "stdout",
     "output_type": "stream",
     "text": [
      "45\n"
     ]
    }
   ],
   "source": [
    "N = int(input())\n",
    "li = [list(map(int, input().split())) for _ in range(N)]\n",
    "dp = [0 for _ in range(N+1)]\n",
    "\n",
    "for i in range(N-1, -1, -1):\n",
    "    if i + li[i][0] > N:\n",
    "        dp[i] = dp[i+1]\n",
    "    else:\n",
    "        dp[i] = max(dp[i+1], li[i][1] + dp[i + li[i][0]])\n",
    "    \n",
    "print(dp[0])"
   ]
  },
  {
   "cell_type": "code",
   "execution_count": 54,
   "id": "00afec43",
   "metadata": {
    "ExecuteTime": {
     "end_time": "2022-02-22T01:47:36.726981Z",
     "start_time": "2022-02-22T01:47:36.705019Z"
    }
   },
   "outputs": [
    {
     "name": "stdout",
     "output_type": "stream",
     "text": [
      "45\n"
     ]
    }
   ],
   "source": [
    "N = int(input())\n",
    "li = [list(map(int, input().split())) for _ in range(N)]\n",
    "dp = [0 for _ in range(N+1)]\n",
    "\n",
    "for i in range(N):\n",
    "    for j in range(i + li[i][0], N+1):\n",
    "        if dp[j] < dp[i] + li[i][1]:\n",
    "            dp[j] = dp[i] + li[i][1]\n",
    "\n",
    "print(dp[-1])"
   ]
  },
  {
   "cell_type": "code",
   "execution_count": 34,
   "id": "94211108",
   "metadata": {
    "ExecuteTime": {
     "end_time": "2022-02-22T01:11:49.086576Z",
     "start_time": "2022-02-22T01:11:40.252738Z"
    }
   },
   "outputs": [
    {
     "name": "stdout",
     "output_type": "stream",
     "text": [
      "10\n",
      "1 1\n",
      "1 2\n",
      "1 3\n",
      "1 4\n",
      "1 5\n",
      "1 6\n",
      "1 7\n",
      "1 8\n",
      "1 9\n",
      "1 10\n",
      "55\n"
     ]
    }
   ],
   "source": [
    "N = int(input())\n",
    "li = [list(map(int, input().split())) for _ in range(N)]\n",
    "dp = [0 for _ in range(N+1)]\n",
    "\n",
    "for i in range(N):\n",
    "    for j in range(i + li[i][0], N+1):\n",
    "        if dp[j] < dp[i] + li[i][1]:\n",
    "            dp[j] = dp[i] + li[i][1]\n",
    "\n",
    "print(dp[-1])"
   ]
  },
  {
   "cell_type": "code",
   "execution_count": 33,
   "id": "d81116fc",
   "metadata": {
    "ExecuteTime": {
     "end_time": "2022-02-22T01:11:31.011903Z",
     "start_time": "2022-02-22T01:11:11.850805Z"
    }
   },
   "outputs": [
    {
     "name": "stdout",
     "output_type": "stream",
     "text": [
      "10\n",
      "5 10\n",
      "5 9\n",
      "5 8\n",
      "5 7\n",
      "5 6\n",
      "5 10\n",
      "5 9\n",
      "5 8\n",
      "5 7\n",
      "5 6\n",
      "20\n"
     ]
    }
   ],
   "source": [
    "N = int(input())\n",
    "li = [list(map(int, input().split())) for _ in range(N)]\n",
    "dp = [0 for _ in range(N+1)]\n",
    "\n",
    "for i in range(N):\n",
    "    for j in range(i + li[i][0], N+1):\n",
    "        if dp[j] < dp[i] + li[i][1]:\n",
    "            dp[j] = dp[i] + li[i][1]\n",
    "\n",
    "print(dp[-1])"
   ]
  },
  {
   "cell_type": "code",
   "execution_count": 32,
   "id": "b7d6785d",
   "metadata": {
    "ExecuteTime": {
     "end_time": "2022-02-22T01:10:48.807901Z",
     "start_time": "2022-02-22T01:10:33.895062Z"
    }
   },
   "outputs": [
    {
     "name": "stdout",
     "output_type": "stream",
     "text": [
      "10\n",
      "5 50\n",
      "4 40\n",
      "3 30\n",
      "2 20\n",
      "1 10\n",
      "1 10\n",
      "2 20\n",
      "3 30\n",
      "4 40\n",
      "5 50\n",
      "90\n"
     ]
    }
   ],
   "source": [
    "N = int(input())\n",
    "li = [list(map(int, input().split())) for _ in range(N)]\n",
    "dp = [0 for _ in range(N+1)]\n",
    "\n",
    "for i in range(N):\n",
    "    for j in range(i + li[i][0], N+1):\n",
    "        if dp[j] < dp[i] + li[i][1]:\n",
    "            dp[j] = dp[i] + li[i][1]\n",
    "\n",
    "print(dp[-1])"
   ]
  },
  {
   "cell_type": "code",
   "execution_count": null,
   "id": "d0f08000",
   "metadata": {},
   "outputs": [],
   "source": []
  }
 ],
 "metadata": {
  "kernelspec": {
   "display_name": "Python 3",
   "language": "python",
   "name": "python3"
  },
  "language_info": {
   "codemirror_mode": {
    "name": "ipython",
    "version": 3
   },
   "file_extension": ".py",
   "mimetype": "text/x-python",
   "name": "python",
   "nbconvert_exporter": "python",
   "pygments_lexer": "ipython3",
   "version": "3.8.5"
  },
  "toc": {
   "base_numbering": 1,
   "nav_menu": {},
   "number_sections": true,
   "sideBar": true,
   "skip_h1_title": false,
   "title_cell": "Table of Contents",
   "title_sidebar": "Contents",
   "toc_cell": false,
   "toc_position": {},
   "toc_section_display": true,
   "toc_window_display": false
  },
  "varInspector": {
   "cols": {
    "lenName": 16,
    "lenType": 16,
    "lenVar": 40
   },
   "kernels_config": {
    "python": {
     "delete_cmd_postfix": "",
     "delete_cmd_prefix": "del ",
     "library": "var_list.py",
     "varRefreshCmd": "print(var_dic_list())"
    },
    "r": {
     "delete_cmd_postfix": ") ",
     "delete_cmd_prefix": "rm(",
     "library": "var_list.r",
     "varRefreshCmd": "cat(var_dic_list()) "
    }
   },
   "types_to_exclude": [
    "module",
    "function",
    "builtin_function_or_method",
    "instance",
    "_Feature"
   ],
   "window_display": false
  }
 },
 "nbformat": 4,
 "nbformat_minor": 5
}
