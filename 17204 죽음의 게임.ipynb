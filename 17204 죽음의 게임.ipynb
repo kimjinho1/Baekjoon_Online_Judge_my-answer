{
 "cells": [
  {
   "cell_type": "code",
   "execution_count": 15,
   "id": "sporting-titanium",
   "metadata": {
    "ExecuteTime": {
     "end_time": "2021-10-25T02:56:11.159321Z",
     "start_time": "2021-10-25T02:55:53.854767Z"
    }
   },
   "outputs": [
    {
     "name": "stdout",
     "output_type": "stream",
     "text": [
      "5 3\n",
      "1\n",
      "3\n",
      "2\n",
      "1\n",
      "4\n",
      "2\n"
     ]
    }
   ],
   "source": [
    "from collections import deque\n",
    "\n",
    "def bfs():\n",
    "    q = deque()\n",
    "    q.append((0))\n",
    "    while q:\n",
    "        node = q.popleft()\n",
    "        n = li[node]\n",
    "        if check[n] == 0 and node != n:\n",
    "            q.append(n)\n",
    "            check[n] = check[node] + 1\n",
    "            if n == K:\n",
    "                return ;\n",
    "    \n",
    "N, K = map(int, input().split())\n",
    "li = [int(input()) for _ in range(N)]\n",
    "check = [0]*N\n",
    "bfs()\n",
    "print(check[K] if check[K] else -1)"
   ]
  },
  {
   "cell_type": "code",
   "execution_count": 17,
   "id": "large-barrel",
   "metadata": {
    "ExecuteTime": {
     "end_time": "2021-10-25T02:57:34.592610Z",
     "start_time": "2021-10-25T02:57:30.908939Z"
    }
   },
   "outputs": [
    {
     "name": "stdout",
     "output_type": "stream",
     "text": [
      "6 2\n",
      "1\n",
      "3\n",
      "5\n",
      "4\n",
      "0\n",
      "2\n",
      "-1\n"
     ]
    }
   ],
   "source": [
    "from collections import deque\n",
    "\n",
    "def bfs():\n",
    "    q = deque()\n",
    "    q.append((0))\n",
    "    while q:\n",
    "        node = q.popleft()\n",
    "        n = li[node]\n",
    "        if check[n] == 0 and node != n:\n",
    "            q.append(n)\n",
    "            check[n] = check[node] + 1\n",
    "            if n == K:\n",
    "                return ;\n",
    "    \n",
    "N, K = map(int, input().split())\n",
    "li = [int(input()) for _ in range(N)]\n",
    "check = [0]*N\n",
    "bfs()\n",
    "print(check[K] if check[K] else -1)"
   ]
  },
  {
   "cell_type": "code",
   "execution_count": null,
   "id": "closed-envelope",
   "metadata": {},
   "outputs": [],
   "source": []
  }
 ],
 "metadata": {
  "kernelspec": {
   "display_name": "Python 3",
   "language": "python",
   "name": "python3"
  },
  "language_info": {
   "codemirror_mode": {
    "name": "ipython",
    "version": 3
   },
   "file_extension": ".py",
   "mimetype": "text/x-python",
   "name": "python",
   "nbconvert_exporter": "python",
   "pygments_lexer": "ipython3",
   "version": "3.7.9"
  },
  "toc": {
   "base_numbering": 1,
   "nav_menu": {},
   "number_sections": true,
   "sideBar": true,
   "skip_h1_title": false,
   "title_cell": "Table of Contents",
   "title_sidebar": "Contents",
   "toc_cell": false,
   "toc_position": {},
   "toc_section_display": true,
   "toc_window_display": false
  },
  "varInspector": {
   "cols": {
    "lenName": 16,
    "lenType": 16,
    "lenVar": 40
   },
   "kernels_config": {
    "python": {
     "delete_cmd_postfix": "",
     "delete_cmd_prefix": "del ",
     "library": "var_list.py",
     "varRefreshCmd": "print(var_dic_list())"
    },
    "r": {
     "delete_cmd_postfix": ") ",
     "delete_cmd_prefix": "rm(",
     "library": "var_list.r",
     "varRefreshCmd": "cat(var_dic_list()) "
    }
   },
   "types_to_exclude": [
    "module",
    "function",
    "builtin_function_or_method",
    "instance",
    "_Feature"
   ],
   "window_display": false
  }
 },
 "nbformat": 4,
 "nbformat_minor": 5
}
