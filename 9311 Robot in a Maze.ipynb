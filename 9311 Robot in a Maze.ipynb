{
 "cells": [
  {
   "cell_type": "code",
   "execution_count": 31,
   "id": "be11c747",
   "metadata": {
    "ExecuteTime": {
     "end_time": "2021-12-21T15:39:50.106074Z",
     "start_time": "2021-12-21T15:39:17.605145Z"
    }
   },
   "outputs": [
    {
     "name": "stdout",
     "output_type": "stream",
     "text": [
      "3\n",
      "7 8\n",
      "XXXXXXXX\n",
      "XSOOXOOX\n",
      "XOXOOOOX\n",
      "XOXXXOOX\n",
      "XOXOXXOX\n",
      "XOOOXOOX\n",
      "XXXXXGXX\n",
      "Shortest Path: 11\n",
      "4 4\n",
      "XGXX\n",
      "XSOX\n",
      "XOOX\n",
      "XGGX\n",
      "Shortest Path: 1\n",
      "4 4\n",
      "XXXX\n",
      "XSOX\n",
      "XXXX\n",
      "XXGX\n",
      "No Exit\n"
     ]
    }
   ],
   "source": [
    "from collections import deque\n",
    "\n",
    "def bfs(i, j):\n",
    "    d = [(-1, 0), (1, 0), (0, -1), (0, 1)]\n",
    "    q = deque()\n",
    "    q.append((i, j))\n",
    "    check[i][j] = 0\n",
    "    while q:\n",
    "        y, x = q.popleft()\n",
    "        for dy, dx in d:\n",
    "            Y, X = y+dy, x+dx\n",
    "            if (0 <= Y < R) and (0 <= X < C) and graph[Y][X] != 'X' and check[Y][X] == -1:\n",
    "                check[Y][X] = check[y][x] + 1\n",
    "                if graph[Y][X] == 'G':\n",
    "                    return check[Y][X]\n",
    "                q.append((Y, X))\n",
    "    return None\n",
    "\n",
    "for _ in range(int(input())):\n",
    "    R, C = map(int, input().split())\n",
    "    graph = [input() for a in range(R)]\n",
    "    check = [[-1]*C for b in range(R)]\n",
    "    \n",
    "    for i in range(R):\n",
    "        for j in range(C):\n",
    "            if graph[i][j] == 'S':\n",
    "                ans = bfs(i, j)\n",
    "                print(f\"Shortest Path: {ans}\" if ans else \"No Exit\")"
   ]
  },
  {
   "cell_type": "code",
   "execution_count": null,
   "id": "28ec77f8",
   "metadata": {},
   "outputs": [],
   "source": []
  }
 ],
 "metadata": {
  "kernelspec": {
   "display_name": "Python 3",
   "language": "python",
   "name": "python3"
  },
  "language_info": {
   "codemirror_mode": {
    "name": "ipython",
    "version": 3
   },
   "file_extension": ".py",
   "mimetype": "text/x-python",
   "name": "python",
   "nbconvert_exporter": "python",
   "pygments_lexer": "ipython3",
   "version": "3.8.5"
  },
  "toc": {
   "base_numbering": 1,
   "nav_menu": {},
   "number_sections": true,
   "sideBar": true,
   "skip_h1_title": false,
   "title_cell": "Table of Contents",
   "title_sidebar": "Contents",
   "toc_cell": false,
   "toc_position": {},
   "toc_section_display": true,
   "toc_window_display": false
  },
  "varInspector": {
   "cols": {
    "lenName": 16,
    "lenType": 16,
    "lenVar": 40
   },
   "kernels_config": {
    "python": {
     "delete_cmd_postfix": "",
     "delete_cmd_prefix": "del ",
     "library": "var_list.py",
     "varRefreshCmd": "print(var_dic_list())"
    },
    "r": {
     "delete_cmd_postfix": ") ",
     "delete_cmd_prefix": "rm(",
     "library": "var_list.r",
     "varRefreshCmd": "cat(var_dic_list()) "
    }
   },
   "types_to_exclude": [
    "module",
    "function",
    "builtin_function_or_method",
    "instance",
    "_Feature"
   ],
   "window_display": false
  }
 },
 "nbformat": 4,
 "nbformat_minor": 5
}
