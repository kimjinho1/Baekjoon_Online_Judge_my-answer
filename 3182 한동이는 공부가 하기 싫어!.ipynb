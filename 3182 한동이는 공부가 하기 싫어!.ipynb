{
 "cells": [
  {
   "cell_type": "code",
   "execution_count": 16,
   "id": "9133f5c9",
   "metadata": {
    "ExecuteTime": {
     "end_time": "2021-08-10T07:05:25.751405Z",
     "start_time": "2021-08-10T07:05:23.234561Z"
    }
   },
   "outputs": [
    {
     "name": "stdout",
     "output_type": "stream",
     "text": [
      "6\n",
      "2\n",
      "3\n",
      "4\n",
      "3\n",
      "1\n",
      "1\n",
      "5\n"
     ]
    }
   ],
   "source": [
    "def dfs(node, cnt):\n",
    "    check[node] = 1\n",
    "    n = graph[node][0]\n",
    "    if check[n] == 0:\n",
    "        cnt = dfs(n, cnt+1)\n",
    "    return cnt\n",
    "\n",
    "N = int(input())\n",
    "graph = [[] for _ in range(N+1)]\n",
    "res = [0]*(N+1)\n",
    "for u in range(1, N+1):\n",
    "    v = int(input())\n",
    "    graph[u].append(v)\n",
    "for i in range(1, N+1):\n",
    "    check = [0]*(N+1)\n",
    "    res[i] = dfs(i, 1)\n",
    "print(res.index(max(res)))"
   ]
  },
  {
   "cell_type": "code",
   "execution_count": null,
   "id": "5cf49bcb",
   "metadata": {},
   "outputs": [],
   "source": []
  },
  {
   "cell_type": "code",
   "execution_count": null,
   "id": "429b02ea",
   "metadata": {},
   "outputs": [],
   "source": []
  }
 ],
 "metadata": {
  "kernelspec": {
   "display_name": "Python 3",
   "language": "python",
   "name": "python3"
  },
  "language_info": {
   "codemirror_mode": {
    "name": "ipython",
    "version": 3
   },
   "file_extension": ".py",
   "mimetype": "text/x-python",
   "name": "python",
   "nbconvert_exporter": "python",
   "pygments_lexer": "ipython3",
   "version": "3.8.5"
  },
  "toc": {
   "base_numbering": 1,
   "nav_menu": {},
   "number_sections": true,
   "sideBar": true,
   "skip_h1_title": false,
   "title_cell": "Table of Contents",
   "title_sidebar": "Contents",
   "toc_cell": false,
   "toc_position": {},
   "toc_section_display": true,
   "toc_window_display": false
  },
  "varInspector": {
   "cols": {
    "lenName": 16,
    "lenType": 16,
    "lenVar": 40
   },
   "kernels_config": {
    "python": {
     "delete_cmd_postfix": "",
     "delete_cmd_prefix": "del ",
     "library": "var_list.py",
     "varRefreshCmd": "print(var_dic_list())"
    },
    "r": {
     "delete_cmd_postfix": ") ",
     "delete_cmd_prefix": "rm(",
     "library": "var_list.r",
     "varRefreshCmd": "cat(var_dic_list()) "
    }
   },
   "types_to_exclude": [
    "module",
    "function",
    "builtin_function_or_method",
    "instance",
    "_Feature"
   ],
   "window_display": false
  }
 },
 "nbformat": 4,
 "nbformat_minor": 5
}
