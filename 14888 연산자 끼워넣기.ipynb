{
 "cells": [
  {
   "cell_type": "code",
   "execution_count": 37,
   "id": "21877401",
   "metadata": {
    "ExecuteTime": {
     "end_time": "2021-08-07T15:28:04.682593Z",
     "start_time": "2021-08-07T15:28:02.183543Z"
    }
   },
   "outputs": [
    {
     "name": "stdout",
     "output_type": "stream",
     "text": [
      "2\n",
      "5 6\n",
      "0 0 1 0\n",
      "30\n",
      "30\n"
     ]
    }
   ],
   "source": [
    "def dfs(res, i, add, sub, mul, div):\n",
    "    global N\n",
    "    if i == N:\n",
    "        res_li.append(res)\n",
    "    else:\n",
    "        if add:\n",
    "            dfs(res + nums[i], i+1, add-1, sub, mul, div)            \n",
    "        if sub:\n",
    "            dfs(res - nums[i], i+1, add, sub-1, mul, div)\n",
    "        if mul:\n",
    "            dfs(res * nums[i], i+1, add, sub, mul-1, div)\n",
    "        if div:\n",
    "            dfs(int(res / nums[i]), i+1, add, sub, mul, div-1)          \n",
    "    \n",
    "N = int(input())\n",
    "nums = list(map(int, input().split()))\n",
    "add, sub, mul, div = map(int, input().split())\n",
    "res_li = []\n",
    "\n",
    "dfs(nums[0], 1, add, sub, mul, div)\n",
    "print(max(res_li))\n",
    "print(min(res_li))"
   ]
  },
  {
   "cell_type": "code",
   "execution_count": 36,
   "id": "21bac1c0",
   "metadata": {
    "ExecuteTime": {
     "end_time": "2021-08-07T15:27:57.453024Z",
     "start_time": "2021-08-07T15:27:52.309186Z"
    }
   },
   "outputs": [
    {
     "name": "stdout",
     "output_type": "stream",
     "text": [
      "3 \n",
      "3 4 5\n",
      "1 0 1 0\n",
      "35\n",
      "17\n"
     ]
    }
   ],
   "source": [
    "def dfs(res, i, add, sub, mul, div):\n",
    "    global N\n",
    "    if i == N:\n",
    "        res_li.append(res)\n",
    "    else:\n",
    "        if add:\n",
    "            dfs(res + nums[i], i+1, add-1, sub, mul, div)            \n",
    "        if sub:\n",
    "            dfs(res - nums[i], i+1, add, sub-1, mul, div)\n",
    "        if mul:\n",
    "            dfs(res * nums[i], i+1, add, sub, mul-1, div)\n",
    "        if div:\n",
    "            dfs(int(res / nums[i]), i+1, add, sub, mul, div-1)          \n",
    "    \n",
    "N = int(input())\n",
    "nums = list(map(int, input().split()))\n",
    "add, sub, mul, div = map(int, input().split())\n",
    "res_li = []\n",
    "\n",
    "dfs(nums[0], 1, add, sub, mul, div)\n",
    "print(max(res_li))\n",
    "print(min(res_li))"
   ]
  },
  {
   "cell_type": "code",
   "execution_count": 35,
   "id": "9a56fe5b",
   "metadata": {
    "ExecuteTime": {
     "end_time": "2021-08-07T15:27:47.421448Z",
     "start_time": "2021-08-07T15:27:44.229842Z"
    },
    "scrolled": true
   },
   "outputs": [
    {
     "name": "stdout",
     "output_type": "stream",
     "text": [
      "6\n",
      "1 2 3 4 5 6\n",
      "2 1 1 1\n",
      "54\n",
      "-24\n"
     ]
    }
   ],
   "source": [
    "def dfs(res, i, add, sub, mul, div):\n",
    "    global N\n",
    "    if i == N:\n",
    "        res_li.append(res)\n",
    "    else:\n",
    "        if add:\n",
    "            dfs(res + nums[i], i+1, add-1, sub, mul, div)            \n",
    "        if sub:\n",
    "            dfs(res - nums[i], i+1, add, sub-1, mul, div)\n",
    "        if mul:\n",
    "            dfs(res * nums[i], i+1, add, sub, mul-1, div)\n",
    "        if div:\n",
    "            dfs(int(res / nums[i]), i+1, add, sub, mul, div-1)          \n",
    "    \n",
    "N = int(input())\n",
    "nums = list(map(int, input().split()))\n",
    "add, sub, mul, div = map(int, input().split())\n",
    "res_li = []\n",
    "\n",
    "dfs(nums[0], 1, add, sub, mul, div)\n",
    "print(max(res_li))\n",
    "print(min(res_li))"
   ]
  },
  {
   "cell_type": "code",
   "execution_count": null,
   "id": "10aa6407",
   "metadata": {},
   "outputs": [],
   "source": []
  },
  {
   "cell_type": "code",
   "execution_count": null,
   "id": "8196c6bb",
   "metadata": {},
   "outputs": [],
   "source": []
  }
 ],
 "metadata": {
  "kernelspec": {
   "display_name": "Python 3",
   "language": "python",
   "name": "python3"
  },
  "language_info": {
   "codemirror_mode": {
    "name": "ipython",
    "version": 3
   },
   "file_extension": ".py",
   "mimetype": "text/x-python",
   "name": "python",
   "nbconvert_exporter": "python",
   "pygments_lexer": "ipython3",
   "version": "3.8.5"
  },
  "toc": {
   "base_numbering": 1,
   "nav_menu": {},
   "number_sections": true,
   "sideBar": true,
   "skip_h1_title": false,
   "title_cell": "Table of Contents",
   "title_sidebar": "Contents",
   "toc_cell": false,
   "toc_position": {},
   "toc_section_display": true,
   "toc_window_display": false
  },
  "varInspector": {
   "cols": {
    "lenName": 16,
    "lenType": 16,
    "lenVar": 40
   },
   "kernels_config": {
    "python": {
     "delete_cmd_postfix": "",
     "delete_cmd_prefix": "del ",
     "library": "var_list.py",
     "varRefreshCmd": "print(var_dic_list())"
    },
    "r": {
     "delete_cmd_postfix": ") ",
     "delete_cmd_prefix": "rm(",
     "library": "var_list.r",
     "varRefreshCmd": "cat(var_dic_list()) "
    }
   },
   "types_to_exclude": [
    "module",
    "function",
    "builtin_function_or_method",
    "instance",
    "_Feature"
   ],
   "window_display": false
  }
 },
 "nbformat": 4,
 "nbformat_minor": 5
}
